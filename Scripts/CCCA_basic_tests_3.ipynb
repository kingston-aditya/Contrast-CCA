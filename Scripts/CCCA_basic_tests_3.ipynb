{
 "cells": [
  {
   "cell_type": "code",
   "execution_count": 70,
   "id": "1b116a71",
   "metadata": {},
   "outputs": [],
   "source": [
    "# Libraries\n",
    "import pandas as pd\n",
    "import matplotlib.pyplot as plt\n",
    "import seaborn as sns\n",
    "import numpy as np\n",
    "from scipy.stats import ortho_group\n",
    "from sklearn.metrics import plot_confusion_matrix"
   ]
  },
  {
   "cell_type": "code",
   "execution_count": 71,
   "id": "ba453f87",
   "metadata": {},
   "outputs": [],
   "source": [
    "from sklearn.metrics import confusion_matrix\n",
    "import seaborn as sns\n",
    "\n",
    "def standard(X):\n",
    "    XNormed = (X - np.mean(X,axis=0))/(np.std(X,axis=0))\n",
    "    return XNormed\n",
    "\n",
    "def make_cf(u,v, lambd, thresh):\n",
    "    y_pred_u = np.zeros(32)\n",
    "    y_pred_v = np.zeros(32)\n",
    "    y_true = np.zeros(32)\n",
    "    \n",
    "    tu = [idx for idx, val in enumerate(list(u)) if val >= 0.2]\n",
    "    tv = [idx for idx, val in enumerate(list(v)) if val >= 0.2]\n",
    "    \n",
    "    y_pred_u[tu] = 1.0\n",
    "    y_pred_v[tv] = 1.0\n",
    "    \n",
    "    y_true[[13, 14,20, 21, 22]] = 1.0\n",
    "    cf_matrix_u = confusion_matrix(y_true, y_pred_u)\n",
    "    cf_matrix_v = confusion_matrix(y_true, y_pred_v)\n",
    "    fig, axes = plt.subplots(1, 2,figsize=(10, 5))\n",
    "    \n",
    "    txt = 'CF matrices for lambda = ' + str(lambd)\n",
    "    fig.suptitle(txt)\n",
    "    sns.heatmap(ax=axes[0],data=cf_matrix_u, annot=True)\n",
    "    axes[0].set_title(\"for U vector\")\n",
    "    sns.heatmap(ax=axes[1],data=cf_matrix_v, annot=True)\n",
    "    axes[1].set_title(\"for V vector\")"
   ]
  },
  {
   "cell_type": "code",
   "execution_count": 73,
   "id": "cc9fb760",
   "metadata": {},
   "outputs": [
    {
     "name": "stdout",
     "output_type": "stream",
     "text": [
      "0.7999999999999999\n",
      "0.8000000000000004\n",
      "0.8\n",
      "0.011312589200315866\n",
      "0.7999999999999997\n",
      "0.8\n",
      "for B and A\n",
      "Non zero elements posiitons of U [14, 15, 16, 18, 19, 21, 22]\n",
      "Values of U [0.28, 0.36, 0.48, 0.31, 0.2, 0.44, 0.29]\n",
      "Non zero elements posiitons of V [13, 14, 15, 16, 17, 18, 19, 20, 21, 22]\n",
      "Values of V [0.27, 0.31, 0.27, 0.21, 0.33, 0.26, 0.41, 0.34, 0.22, 0.26]\n",
      "\n",
      "\n",
      "for C and A\n",
      "Non zero elements posiitons of U [0]\n",
      "Values of U [1.0]\n",
      "Non zero elements posiitons of V [0]\n",
      "Values of V [1.0]\n",
      "\n",
      "\n",
      "for A, B and C\n",
      "Non zero elements posiitons of U [15, 16, 18, 21]\n",
      "Values of U [0.1, 0.12, 0.28, 0.36, 0.48, 0.14, 0.31, 0.2, 0.12, 0.44, 0.29, 0.1]\n",
      "Non zero elements posiitons of V [13, 14, 15, 17, 18, 19, 20, 22]\n",
      "Values of V [0.16, 0.1, 0.1, 0.1, 0.27, 0.31, 0.27, 0.21, 0.33, 0.26, 0.41, 0.34, 0.22, 0.26, 0.1]\n",
      "optimal values 13,14,20,21,22\n"
     ]
    }
   ],
   "source": [
    "from scipy.linalg import cholesky\n",
    "from scipy.linalg import null_space\n",
    "\n",
    "Cor = 0.8*np.ones((32, 32))\n",
    "np.fill_diagonal(Cor, 1)\n",
    "\n",
    "L1 = cholesky(Cor, lower=False)\n",
    "\n",
    "Z = null_space(np.concatenate((np.random.rand(95,128),np.ones((1,128)))))\n",
    "D = Z@L1\n",
    "\n",
    "np.random.shuffle(np.transpose(D))\n",
    "\n",
    "print(np.corrcoef(D[:,0],D[:,5])[0,1])\n",
    "print(np.corrcoef(D[:,5],D[:,7])[0,1])\n",
    "print(np.corrcoef(D[:,0],D[:,7])[0,1])\n",
    "\n",
    "from sklearn.cross_decomposition import CCA\n",
    "\n",
    "x = ortho_group.rvs(128)\n",
    "np.random.shuffle(np.transpose(x))\n",
    "\n",
    "A = x[:,0:32]\n",
    "B = x[:,32:64]\n",
    "C = x[:,64:96]\n",
    "\n",
    "A[:,13:23] = D[:,0:10]\n",
    "C[:,15:20] = D[:,10:15]\n",
    "B[:,13:23] = D[:,15:25]\n",
    "\n",
    "print(np.corrcoef(A[:,10],C[:,10])[0,1])\n",
    "print(np.corrcoef(A[:,17],C[:,17])[0,1])\n",
    "print(np.corrcoef(A[:,19],C[:,19])[0,1])\n",
    "\n",
    "ca = CCA()\n",
    "\n",
    "ca.fit(A,B)\n",
    "\n",
    "u = np.around(ca.x_weights_[:,0],2)\n",
    "v = np.around(ca.y_weights_[:,0],2)\n",
    "\n",
    "print(\"for B and A\")\n",
    "print(\"Non zero elements posiitons of U\",[idx for idx, val in enumerate(list(u)) if val >= 0.2])\n",
    "print(\"Values of U\",[val for idx, val in enumerate(list(u)) if val >= 0.2])\n",
    "print(\"Non zero elements posiitons of V\",[idx for idx, val in enumerate(list(v)) if val >= 0.2])\n",
    "print(\"Values of V\",[val for idx, val in enumerate(list(v)) if val >= 0.2])\n",
    "print('\\n')\n",
    "\n",
    "ca1 = CCA()\n",
    "ca1.fit(C,C)\n",
    "\n",
    "u1 = np.around(ca1.x_weights_[:,0],2)\n",
    "v1 = np.around(ca1.y_weights_[:,0],2)\n",
    "\n",
    "print(\"for C and A\")\n",
    "print(\"Non zero elements posiitons of U\",[idx for idx, val in enumerate(list(u1)) if val >= 0.2])\n",
    "print(\"Values of U\",[val for idx, val in enumerate(list(u1)) if val >= 0.2])\n",
    "print(\"Non zero elements posiitons of V\",[idx for idx, val in enumerate(list(v1)) if val >= 0.2])\n",
    "print(\"Values of V\",[val for idx, val in enumerate(list(v1)) if val >= 0.2])\n",
    "print('\\n')\n",
    "\n",
    "u2 = u-u1\n",
    "v2 = v-v1\n",
    "print(\"for A, B and C\")\n",
    "print(\"Non zero elements posiitons of U\",[idx for idx, val in enumerate(list(u2)) if val >= 0.3])\n",
    "print(\"Values of U\",[val for idx, val in enumerate(list(u2)) if val >= 0.1])\n",
    "print(\"Non zero elements posiitons of V\",[idx for idx, val in enumerate(list(v2)) if val >= 0.25])\n",
    "print(\"Values of V\",[val for idx, val in enumerate(list(v2)) if val >= 0.1])\n",
    "print(\"optimal values\",\"13,14,20,21,22\")"
   ]
  },
  {
   "cell_type": "markdown",
   "id": "d6d3d374",
   "metadata": {},
   "source": [
    "### Real data tests"
   ]
  },
  {
   "cell_type": "markdown",
   "id": "f5224054",
   "metadata": {},
   "source": [
    "### Mouse dataset"
   ]
  },
  {
   "cell_type": "code",
   "execution_count": 75,
   "id": "bf6648c0",
   "metadata": {},
   "outputs": [
    {
     "name": "stderr",
     "output_type": "stream",
     "text": [
      "/tmp/ipykernel_24311/1169795271.py:11: VisibleDeprecationWarning: Reading unicode strings without specifying the encoding argument is deprecated. Set the encoding, use None for the system default.\n",
      "  classes = np.genfromtxt('./mouse_data.csv',delimiter=',',\n"
     ]
    },
    {
     "data": {
      "text/plain": [
       "(270, 77)"
      ]
     },
     "execution_count": 75,
     "metadata": {},
     "output_type": "execute_result"
    }
   ],
   "source": [
    "import pandas as pd\n",
    "import matplotlib.pyplot as plt\n",
    "import seaborn as sns\n",
    "import numpy as np\n",
    "\n",
    "import numpy as np\n",
    "%matplotlib inline\n",
    "\n",
    "data = np.genfromtxt('./mouse_data.csv',delimiter=',',\n",
    "                     skip_header=1,usecols=range(1,78),filling_values=0)\n",
    "classes = np.genfromtxt('./mouse_data.csv',delimiter=',',\n",
    "                        skip_header=1,usecols=range(78,81),dtype=None)\n",
    "\n",
    "target_idx_A = np.where((classes[:,-1]==b'S/C') & (classes[:,-2]==b'Saline') & (classes[:,-3]==b'Control'))[0]\n",
    "target_idx_B = np.where((classes[:,-1]==b'S/C') & (classes[:,-2]==b'Saline') & (classes[:,-3]==b'Ts65Dn'))[0]\n",
    "\n",
    "labels = len(target_idx_A)*[0] + len(target_idx_B)*[1]\n",
    "target_idx = np.concatenate((target_idx_A,target_idx_B))\n",
    "\n",
    "target = data[target_idx]\n",
    "\n",
    "background_idx = np.where((classes[:,-1]==b'C/S') & (classes[:,-2]==b'Saline') & (classes[:,-3]==b'Control'))\n",
    "background = data[background_idx]\n",
    "\n",
    "target = pd.DataFrame(target)\n",
    "bg = pd.DataFrame(background)\n",
    "\n",
    "target.shape"
   ]
  },
  {
   "cell_type": "code",
   "execution_count": 78,
   "id": "de7a3363",
   "metadata": {
    "scrolled": true
   },
   "outputs": [
    {
     "data": {
      "image/png": "[encoded data removed]",
      "text/plain": [
       "<Figure size 432x288 with 1 Axes>"
      ]
     },
     "metadata": {
      "needs_background": "light"
     },
     "output_type": "display_data"
    },
    {
     "data": {
      "image/png": "[encoded data removed]",
      "text/plain": [
       "<Figure size 432x288 with 1 Axes>"
      ]
     },
     "metadata": {
      "needs_background": "light"
     },
     "output_type": "display_data"
    },
    {
     "data": {
      "image/png": "[encoded data removed]",
      "text/plain": [
       "<Figure size 432x288 with 1 Axes>"
      ]
     },
     "metadata": {
      "needs_background": "light"
     },
     "output_type": "display_data"
    }
   ],
   "source": [
    "from sklearn.cross_decomposition import CCA\n",
    "\n",
    "A = target.iloc[67:202,0:38]\n",
    "B = target.iloc[67:202,38:76]\n",
    "labels1 = labels[67:202]\n",
    "\n",
    "ca = CCA(n_components=1)\n",
    "\n",
    "ca.fit(A,B)\n",
    "X_c, Y_c = ca.transform(A, B)\n",
    "u = ca.x_weights_\n",
    "v = ca.y_weights_\n",
    "\n",
    "c = ['r' if yy==0 else 'b' for yy in labels1]\n",
    "\n",
    "plt.scatter(X_c, Y_c, c=c)\n",
    "plt.show()\n",
    "\n",
    "C = bg.iloc[0:135,0:38]\n",
    "D = bg.iloc[0:135,38:76]\n",
    "ca.fit(C,C)\n",
    "X_c, Y_c = ca.transform(C, C)\n",
    "u1 = ca.x_weights_\n",
    "v1 = ca.y_weights_\n",
    "\n",
    "plt.scatter(X_c, Y_c, c=c)\n",
    "plt.show()\n",
    "\n",
    "labd = -20\n",
    "u2 = labd*u1 + u\n",
    "v2 = labd*v1 + v\n",
    "X_c = A@u2\n",
    "Y_c = B@v2\n",
    "\n",
    "plt.scatter(X_c, Y_c, c=c)\n",
    "plt.show()"
   ]
  },
  {
   "cell_type": "code",
   "execution_count": 79,
   "id": "f8bc7768",
   "metadata": {
    "scrolled": true
   },
   "outputs": [
    {
     "data": {
      "image/png": "[encoded data removed]",
      "text/plain": [
       "<Figure size 432x288 with 1 Axes>"
      ]
     },
     "metadata": {
      "needs_background": "light"
     },
     "output_type": "display_data"
    },
    {
     "data": {
      "image/png": "[encoded data removed]",
      "text/plain": [
       "<Figure size 432x288 with 1 Axes>"
      ]
     },
     "metadata": {
      "needs_background": "light"
     },
     "output_type": "display_data"
    },
    {
     "data": {
      "image/png": "[encoded data removed]",
      "text/plain": [
       "<Figure size 432x288 with 1 Axes>"
      ]
     },
     "metadata": {
      "needs_background": "light"
     },
     "output_type": "display_data"
    }
   ],
   "source": [
    "from sklearn.cross_decomposition import CCA\n",
    "\n",
    "A = target.iloc[67:202,0:38]\n",
    "B = target.iloc[67:202,38:76]\n",
    "labels1 = labels[67:202]\n",
    "\n",
    "ca = CCA(n_components=1)\n",
    "\n",
    "ca.fit(A,A)\n",
    "X_c, Y_c = ca.transform(A, A)\n",
    "u = ca.x_weights_\n",
    "v = ca.y_weights_\n",
    "\n",
    "c = ['r' if yy==0 else 'b' for yy in labels1]\n",
    "\n",
    "plt.scatter(X_c, Y_c, c=c)\n",
    "plt.show()\n",
    "\n",
    "C = bg.iloc[0:135,0:38]\n",
    "D = bg.iloc[0:135,38:76]\n",
    "ca.fit(C,C)\n",
    "X_c, Y_c = ca.transform(C, C)\n",
    "u1 = ca.x_weights_\n",
    "v1 = ca.y_weights_\n",
    "\n",
    "plt.scatter(X_c, Y_c, c=c)\n",
    "plt.show()\n",
    "\n",
    "labd = -20\n",
    "u2 = labd*u1 + u\n",
    "v2 = labd*v1 + v\n",
    "X_c = A@u2\n",
    "Y_c = B@v2\n",
    "\n",
    "plt.scatter(X_c, Y_c, c=c)\n",
    "plt.show()"
   ]
  },
  {
   "cell_type": "markdown",
   "id": "f266f6b8",
   "metadata": {},
   "source": [
    "### IMU dataset"
   ]
  },
  {
   "cell_type": "code",
   "execution_count": 65,
   "id": "ae20ae09",
   "metadata": {},
   "outputs": [],
   "source": [
    "import numpy as np\n",
    "import matplotlib.pyplot as plt\n",
    "from matplotlib.colors import ListedColormap\n",
    "%matplotlib inline\n",
    "\n",
    "data = np.genfromtxt('./mHealth_subject1.log',delimiter='\\t',usecols=range(0,23),filling_values=0)\n",
    "classes = np.genfromtxt('./mHealth_subject1.log',delimiter='\\t',usecols=range(23,24),filling_values=0)\n",
    "\n",
    "# for plotting\n",
    "cmap2 = ListedColormap(['r', 'k'])\n",
    "cmap4 = ListedColormap(['k', 'r', 'g', 'b'])\n",
    "plt.rc(\"font\",family=\"sans-serif\",size=20)\n",
    "plt.rcParams[\"font.sans-serif\"] = \"Arial\"\n",
    "\n",
    "target_idx_A = np.where(classes==8)[0] # jogging\n",
    "target_idx_B = np.where(classes==9)[0] # squatting\n",
    "\n",
    "labels = len(target_idx_A)*[0] + len(target_idx_B)*[1]\n",
    "target_idx = np.concatenate((target_idx_A,target_idx_B))                                                                          \n",
    "\n",
    "target = data[target_idx]\n",
    "\n",
    "background_idx = np.where(classes==3)[0] # lying still\n",
    "background = data[background_idx]"
   ]
  },
  {
   "cell_type": "code",
   "execution_count": 68,
   "id": "79f932e1",
   "metadata": {},
   "outputs": [
    {
     "data": {
      "text/plain": [
       "(3072, 23)"
      ]
     },
     "execution_count": 68,
     "metadata": {},
     "output_type": "execute_result"
    }
   ],
   "source": [
    "target = pd.DataFrame(target)\n",
    "bg = pd.DataFrame(background)\n",
    "\n",
    "A = target.iloc[67:202,0:38]\n",
    "B = target.iloc[67:202,38:76]\n",
    "labels1 = labels[67:202]\n",
    "\n",
    "ca = CCA(n_components=1)\n",
    "\n",
    "ca.fit(A,B)\n",
    "X_c, Y_c = ca.transform(A, B)\n",
    "u = ca.x_weights_\n",
    "v = ca.y_weights_\n",
    "\n",
    "c = ['r' if yy==0 else 'b' for yy in labels1]\n",
    "\n",
    "plt.scatter(X_c, Y_c, c=c)\n",
    "plt.show()\n",
    "\n",
    "C = bg.iloc[0:135,0:38]\n",
    "D = bg.iloc[0:135,38:76]\n",
    "ca.fit(C,C)\n",
    "X_c, Y_c = ca.transform(C, C)\n",
    "u1 = ca.x_weights_\n",
    "v1 = ca.y_weights_\n",
    "\n",
    "plt.scatter(X_c, Y_c, c=c)\n",
    "plt.show()\n",
    "\n",
    "labd = -20\n",
    "u2 = labd*u1 + u\n",
    "v2 = labd*v1 + v\n",
    "X_c = A@u2\n",
    "Y_c = B@v2\n",
    "\n",
    "plt.scatter(X_c, Y_c, c=c)\n",
    "plt.show()"
   ]
  },
  {
   "cell_type": "markdown",
   "id": "f42e16c3",
   "metadata": {},
   "source": []
  }
 ],
 "metadata": {
  "kernelspec": {
   "display_name": "Python 3 (ipykernel)",
   "language": "python",
   "name": "python3"
  },
  "language_info": {
   "codemirror_mode": {
    "name": "ipython",
    "version": 3
   },
   "file_extension": ".py",
   "mimetype": "text/x-python",
   "name": "python",
   "nbconvert_exporter": "python",
   "pygments_lexer": "ipython3",
   "version": "3.9.6"
  }
 },
 "nbformat": 4,
 "nbformat_minor": 5
}
