{
 "cells": [
  {
   "cell_type": "code",
   "execution_count": 2,
   "id": "0d62d910",
   "metadata": {},
   "outputs": [
    {
     "name": "stdout",
     "output_type": "stream",
     "text": [
      "LAMBDA =  0\n",
      "Non zero elements posiitons of 1st Compo [10, 11, 14, 15, 16, 17, 18, 19]\n",
      "Values of 1st Compo [0.20776993114846695, 0.3249897561396337, 0.29191177007697716, 0.21877738151763304, 0.4079390969066762, 0.29687084719033957, 0.4923913018116037, 0.13151645012109917]\n",
      "LAMBDA =  0.1\n",
      "Non zero elements posiitons of 1st Compo [10, 11, 13, 14, 15, 16, 17, 18, 19]\n",
      "Values of 1st Compo [0.19257894247255214, 0.37897976455520516, 0.1421247635041204, 0.2705456333780152, 0.1911484615241191, 0.39249032711232357, 0.28811791186431707, 0.5316422633972073, 0.11114214296880859]\n",
      "LAMBDA =  0.2\n",
      "Non zero elements posiitons of 1st Compo [10, 11, 13, 14, 15, 16, 17, 18]\n",
      "Values of 1st Compo [0.1690791914567348, 0.44533123842154915, 0.17679496829535415, 0.24675392653240968, 0.1594607434194187, 0.3665752162639509, 0.26590507400341906, 0.5689994836348012]\n",
      "LAMBDA =  0.4\n",
      "Non zero elements posiitons of 1st Compo [11, 12, 13, 14, 16, 17, 18]\n",
      "Values of 1st Compo [0.5865222081072275, 0.16651322327261628, 0.20694687963280842, 0.19211604241080102, 0.28145606608601, 0.1751901858923312, 0.6076454567274179]\n",
      "LAMBDA =  0.6\n",
      "Non zero elements posiitons of 1st Compo [11, 12, 13, 14, 16, 18]\n",
      "Values of 1st Compo [0.6679000484161761, 0.29427885337222354, 0.18850204285104638, 0.14286755622494116, 0.19153484463135426, 0.5870174181892123]\n",
      "LAMBDA =  0.9\n",
      "Non zero elements posiitons of 1st Compo [11, 12, 13, 16, 18, 19]\n",
      "Values of 1st Compo [0.7005263405211459, 0.38870723398859713, 0.1468768644420522, 0.11309120139501826, 0.542136916603917, 0.12971974897012564]\n",
      "LAMBDA =  1\n",
      "Non zero elements posiitons of 1st Compo [11, 12, 13, 18, 19]\n",
      "Values of 1st Compo [0.7031866777287822, 0.40589211725247587, 0.1356956610928488, 0.5313583630488591, 0.1395268192003457]\n",
      "LAMBDA =  1.1\n",
      "Non zero elements posiitons of 1st Compo [11, 12, 13, 18, 19]\n",
      "Values of 1st Compo [0.7044134543525931, 0.41933355028620234, 0.12593462184492388, 0.5224377883542166, 0.14711129523782565]\n",
      "LAMBDA =  1.2\n",
      "Non zero elements posiitons of 1st Compo [11, 12, 13, 18, 19]\n",
      "Values of 1st Compo [0.7048115210064269, 0.43009712614116113, 0.11740009306265173, 0.515017959521772, 0.1531096530127771]\n",
      "LAMBDA =  1.6\n",
      "Non zero elements posiitons of 1st Compo [11, 12, 18, 19]\n",
      "Values of 1st Compo [0.7031881321936304, 0.4576862446034163, 0.4951358494553822, 0.1680340038960925]\n",
      "LAMBDA =  2\n",
      "Non zero elements posiitons of 1st Compo [11, 12, 18, 19]\n",
      "Values of 1st Compo [0.7004473826577207, 0.4729247532780421, 0.48385837857058434, 0.1758685800670528]\n",
      "LAMBDA =  8\n",
      "Non zero elements posiitons of 1st Compo [11, 12, 17, 18, 19]\n",
      "Values of 1st Compo [0.684764339214203, 0.51366458643259, 0.13073237292980083, 0.45486856223660665, 0.19365765272616975]\n"
     ]
    }
   ],
   "source": [
    "import numpy as np\n",
    "from numpy import linalg as LA\n",
    "\n",
    "A = 3 + 0.5*np.random.randn(128, 32)\n",
    "B = 3 + 0.5 * np.random.randn(128, 32)\n",
    "C = 3 + 16 * np.random.randn(128, 32)\n",
    "\n",
    "A[:,10:20] = C[:,0:10]\n",
    "B[:,13:17] = C[:,11:15]\n",
    "\n",
    "n_components = 2\n",
    "\n",
    "test = [0,0.1,0.2,0.4,0.6,0.9,1,1.1,1.2,1.6,2,8]\n",
    "for lambd in test:\n",
    "    sigma = A.T@A - lambd*B.T@B\n",
    "    w, v = LA.eig(sigma)\n",
    "    eig_idx = np.argpartition(w, -n_components)[-n_components:]\n",
    "    eig_idx = eig_idx[np.argsort(-w[eig_idx])]\n",
    "    v_top = v[:,eig_idx]\n",
    "    u = np.abs(v_top[:,0])\n",
    "    v = np.abs(v_top[:,1])\n",
    "    print(\"LAMBDA = \",lambd)\n",
    "    print(\"Non zero elements posiitons of 1st Compo\",[idx for idx, val in enumerate(list(u)) if val >= 0.11])\n",
    "    print(\"Values of 1st Compo\",[val for idx, val in enumerate(list(u)) if val >= 0.11])\n",
    "    \n",
    "# we expect 10, 11, 12,17,18,19\n",
    "# we don't expect 13, 14, 15, 16"
   ]
  },
  {
   "cell_type": "code",
   "execution_count": null,
   "id": "bb7d3807",
   "metadata": {},
   "outputs": [],
   "source": []
  }
 ],
 "metadata": {
  "kernelspec": {
   "display_name": "Python 3 (ipykernel)",
   "language": "python",
   "name": "python3"
  },
  "language_info": {
   "codemirror_mode": {
    "name": "ipython",
    "version": 3
   },
   "file_extension": ".py",
   "mimetype": "text/x-python",
   "name": "python",
   "nbconvert_exporter": "python",
   "pygments_lexer": "ipython3",
   "version": "3.9.6"
  }
 },
 "nbformat": 4,
 "nbformat_minor": 5
}
